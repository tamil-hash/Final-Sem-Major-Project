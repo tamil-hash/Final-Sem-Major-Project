{
 "cells": [
  {
   "cell_type": "code",
   "execution_count": 1,
   "metadata": {},
   "outputs": [],
   "source": [
    "import pandas as pd"
   ]
  },
  {
   "cell_type": "code",
   "execution_count": 2,
   "metadata": {},
   "outputs": [],
   "source": [
    "import os"
   ]
  },
  {
   "cell_type": "code",
   "execution_count": 3,
   "metadata": {},
   "outputs": [],
   "source": [
    "from sklearn.linear_model import LinearRegression"
   ]
  },
  {
   "cell_type": "code",
   "execution_count": 4,
   "metadata": {},
   "outputs": [],
   "source": [
    "import matplotlib.pyplot as plt"
   ]
  },
  {
   "cell_type": "code",
   "execution_count": 5,
   "metadata": {},
   "outputs": [],
   "source": [
    "import requests"
   ]
  },
  {
   "cell_type": "code",
   "execution_count": 6,
   "metadata": {},
   "outputs": [],
   "source": [
    "import json"
   ]
  },
  {
   "cell_type": "code",
   "execution_count": 7,
   "metadata": {},
   "outputs": [],
   "source": [
    "import re"
   ]
  },
  {
   "cell_type": "code",
   "execution_count": 8,
   "metadata": {
    "scrolled": false
   },
   "outputs": [],
   "source": [
    "from bs4 import BeautifulSoup"
   ]
  },
  {
   "cell_type": "code",
   "execution_count": 9,
   "metadata": {},
   "outputs": [],
   "source": [
    "def create_dir_if_not_exists(rel_dir_path):\n",
    "    if not os.path.exists(rel_dir_path):\n",
    "        os.makedirs(rel_dir_path)"
   ]
  },
  {
   "cell_type": "code",
   "execution_count": 10,
   "metadata": {},
   "outputs": [],
   "source": [
    "create_dir_if_not_exists('dataset')"
   ]
  },
  {
   "cell_type": "code",
   "execution_count": 11,
   "metadata": {},
   "outputs": [],
   "source": [
    "create_dir_if_not_exists('predicted-dataset')"
   ]
  },
  {
   "cell_type": "code",
   "execution_count": 12,
   "metadata": {},
   "outputs": [],
   "source": [
    "usd_to_INR_exchange_rate_url = 'https://api.exchangerate.host/latest?source=ecb&base=USD&symbols=INR'"
   ]
  },
  {
   "cell_type": "code",
   "execution_count": 13,
   "metadata": {},
   "outputs": [],
   "source": [
    "usd_to_INR_exchange_rate_json = requests.get(usd_to_INR_exchange_rate_url).json()"
   ]
  },
  {
   "cell_type": "code",
   "execution_count": 14,
   "metadata": {},
   "outputs": [],
   "source": [
    "usd_to_INR_exchange_rate = float(usd_to_INR_exchange_rate_json['rates']['INR'])"
   ]
  },
  {
   "cell_type": "code",
   "execution_count": 15,
   "metadata": {},
   "outputs": [],
   "source": [
    "catalyst_url = 'https://catalystcloud.nz/services/iaas/compute'"
   ]
  },
  {
   "cell_type": "code",
   "execution_count": 16,
   "metadata": {},
   "outputs": [],
   "source": [
    "catalyst_data_location = 'dataset/catalyst_price_data.csv'"
   ]
  },
  {
   "cell_type": "code",
   "execution_count": 17,
   "metadata": {},
   "outputs": [],
   "source": [
    "catalyst_gst_exclusive = True"
   ]
  },
  {
   "cell_type": "code",
   "execution_count": 18,
   "metadata": {},
   "outputs": [],
   "source": [
    "catalyst_price_page_html = requests.get(catalyst_url).text "
   ]
  },
  {
   "cell_type": "code",
   "execution_count": 19,
   "metadata": {},
   "outputs": [],
   "source": [
    "catalyst_price_page = BeautifulSoup(catalyst_price_page_html, 'html.parser')"
   ]
  },
  {
   "cell_type": "code",
   "execution_count": 20,
   "metadata": {},
   "outputs": [],
   "source": [
    "catalyst_price_table = catalyst_price_page.find(attrs={'class': 'service-price-table'}).tbody"
   ]
  },
  {
   "cell_type": "code",
   "execution_count": 21,
   "metadata": {},
   "outputs": [],
   "source": [
    "catalyst_price_rows = catalyst_price_table.find_all('tr')"
   ]
  },
  {
   "cell_type": "code",
   "execution_count": 22,
   "metadata": {},
   "outputs": [],
   "source": [
    "catalyst_prices_list = []"
   ]
  },
  {
   "cell_type": "code",
   "execution_count": 23,
   "metadata": {},
   "outputs": [],
   "source": [
    "for row in catalyst_price_rows:\n",
    "    catalyst_price_cells = list(row.stripped_strings)\n",
    "    \n",
    "    catalyst_prices_list.append({\n",
    "        'Name': catalyst_price_cells[0],\n",
    "        'vCPU': float(catalyst_price_cells[1]),\n",
    "        'RAM, GB': float(catalyst_price_cells[2]),\n",
    "        'Price per hour, INR (ex GST)': float(catalyst_price_cells[3].strip('$')),\n",
    "        'SSD storage, GB': .0,\n",
    "        'HDD storage, GB': .0\n",
    "    })"
   ]
  },
  {
   "cell_type": "code",
   "execution_count": 24,
   "metadata": {},
   "outputs": [],
   "source": [
    "catalyst_dataframe = pd.DataFrame(catalyst_prices_list)"
   ]
  },
  {
   "cell_type": "code",
   "execution_count": 25,
   "metadata": {},
   "outputs": [],
   "source": [
    "catalyst_dataframe.to_csv(catalyst_data_location)"
   ]
  },
  {
   "cell_type": "code",
   "execution_count": 26,
   "metadata": {},
   "outputs": [
    {
     "name": "stdout",
     "output_type": "stream",
     "text": [
      "Downloaded Catalyst prices, with 45 items.\n"
     ]
    }
   ],
   "source": [
    "print('Downloaded Catalyst prices, with {} items.'.format(catalyst_dataframe.shape[0]))"
   ]
  },
  {
   "cell_type": "code",
   "execution_count": 27,
   "metadata": {},
   "outputs": [],
   "source": [
    "aws_url = 'https://pricing.us-east-1.amazonaws.com/offers/v1.0/aws/AmazonEC2/current/ap-southeast-2/index.json'"
   ]
  },
  {
   "cell_type": "code",
   "execution_count": 28,
   "metadata": {},
   "outputs": [],
   "source": [
    "aws_raw_location = 'dataset/raw_aws_bulk.json'"
   ]
  },
  {
   "cell_type": "code",
   "execution_count": 29,
   "metadata": {},
   "outputs": [],
   "source": [
    "aws_acceptable_instance_families = [\n",
    "    'General purpose',\n",
    "    'Micro instances'\n",
    "]"
   ]
  },
  {
   "cell_type": "code",
   "execution_count": 30,
   "metadata": {},
   "outputs": [],
   "source": [
    "aws_data_location = 'dataset/aws_price_data.csv'"
   ]
  },
  {
   "cell_type": "code",
   "execution_count": 31,
   "metadata": {},
   "outputs": [],
   "source": [
    "aws_gst_exclusive = True"
   ]
  },
  {
   "cell_type": "code",
   "execution_count": 32,
   "metadata": {},
   "outputs": [],
   "source": [
    "aws_bulk_json_request = requests.get(aws_url)"
   ]
  },
  {
   "cell_type": "code",
   "execution_count": 33,
   "metadata": {},
   "outputs": [],
   "source": [
    "aws_bulk_json = aws_bulk_json_request.json()"
   ]
  },
  {
   "cell_type": "code",
   "execution_count": 34,
   "metadata": {
    "scrolled": false
   },
   "outputs": [],
   "source": [
    "with open(aws_raw_location, 'w') as aws_raw_file:\n",
    "    json.dump(aws_bulk_json, aws_raw_file)"
   ]
  },
  {
   "cell_type": "code",
   "execution_count": 35,
   "metadata": {},
   "outputs": [],
   "source": [
    "with open(aws_raw_location, 'r') as aws_raw_file:\n",
    "    aws_raw_json = json.load(aws_raw_file)\n",
    "        \n",
    "    aws_instances_list = []\n",
    "            \n",
    "    for product in aws_raw_json['products']:\n",
    "        \n",
    "        productFamily = aws_raw_json['products'][product]['productFamily']\n",
    "        \n",
    "        \n",
    "        if productFamily == 'Compute Instance':\n",
    "                        \n",
    "            \n",
    "            instanceFamily = aws_raw_json['products'][product]['attributes']['instanceFamily']\n",
    "            is_current_gen = aws_raw_json['products'][product]['attributes']['currentGeneration'] == 'Yes'\n",
    "            is_linux = aws_raw_json['products'][product]['attributes']['operatingSystem'] == 'Linux'\n",
    "            no_preInstalledSw = aws_raw_json['products'][product]['attributes']['preInstalledSw'] == 'NA'\n",
    "            is_shared_instance = aws_raw_json['products'][product]['attributes']['tenancy'] == 'Shared'\n",
    "\n",
    "            if instanceFamily in aws_acceptable_instance_families and is_current_gen \\\n",
    "                and is_linux and no_preInstalledSw and is_shared_instance:\n",
    "                \n",
    "                \n",
    "                aws_instances_list.append(product)"
   ]
  },
  {
   "cell_type": "code",
   "execution_count": 36,
   "metadata": {
    "scrolled": false
   },
   "outputs": [],
   "source": [
    "with open(aws_raw_location, 'r') as aws_raw_file:\n",
    "    \n",
    "    aws_prices_list = []\n",
    "    \n",
    "    for instance_key in aws_instances_list:\n",
    "\n",
    "        attributes = aws_raw_json['products'][instance_key]['attributes']\n",
    "                    \n",
    "        \n",
    "        vCPU = float(attributes['vcpu'].replace(',',''))\n",
    "        RAM = float(attributes['memory'].split(' ')[0].replace(',',''))\n",
    "\n",
    "        \n",
    "        storage_strings = attributes['storage'].split(' ')\n",
    "\n",
    "        \n",
    "        final_num_index = None\n",
    "        for word in storage_strings[::-1]:\n",
    "            try:\n",
    "                float(word.replace(',', ''))\n",
    "                final_num_index = storage_strings.index(word)\n",
    "                break\n",
    "            except:\n",
    "                foo = None\n",
    "\n",
    "        \n",
    "        if final_num_index == None:\n",
    "            total_ssd = .0\n",
    "            total_hdd = .0\n",
    "        else:\n",
    "\n",
    "            \n",
    "            storage_calcs = storage_strings[0:final_num_index+1]\n",
    "            storage_volume = eval(' '.join(['*' if x=='x' else x.replace(',', '') for x in storage_calcs]))\n",
    "\n",
    "            \n",
    "            if 'HDD' in storage_strings:                        \n",
    "                total_ssd = .0\n",
    "                total_hdd = float(storage_volume)\n",
    "\n",
    "            elif 'SSD' in storage_strings:                        \n",
    "                total_ssd = float(storage_volume)\n",
    "                total_hdd = .0\n",
    "            else: \n",
    "                total_ssd = float(storage_volume)\n",
    "                total_hdd = .0\n",
    "\n",
    "\n",
    "        \n",
    "        terms = aws_raw_json['terms']['OnDemand'][instance_key]\n",
    "        usd_price = None\n",
    "        for specific_term in terms:\n",
    "            for dimension_key in terms[specific_term]['priceDimensions']:\n",
    "                dimension = terms[specific_term]['priceDimensions'][dimension_key]\n",
    "                if dimension['unit'] != 'Hrs': raise ValueError(\"This price isn't in hours\")\n",
    "                usd_price = float(dimension['pricePerUnit']['USD'])\n",
    "\n",
    "        \n",
    "        INR_price = usd_price * usd_to_INR_exchange_rate\n",
    "                \n",
    "        \n",
    "        aws_prices_list.append({\n",
    "            'Name': attributes['instanceType'],\n",
    "            'vCPU': vCPU,\n",
    "            'RAM, GB': RAM,\n",
    "            'Price per hour, INR (ex GST)': INR_price,\n",
    "            'SSD storage, GB': total_ssd,\n",
    "            'HDD storage, GB': total_hdd\n",
    "        })\n",
    "\n",
    "\n",
    "\n",
    "\n"
   ]
  },
  {
   "cell_type": "code",
   "execution_count": 37,
   "metadata": {},
   "outputs": [],
   "source": [
    "aws_dataframe = pd.DataFrame(aws_prices_list)"
   ]
  },
  {
   "cell_type": "code",
   "execution_count": 38,
   "metadata": {},
   "outputs": [],
   "source": [
    "aws_dataframe.to_csv(aws_data_location)"
   ]
  },
  {
   "cell_type": "code",
   "execution_count": 39,
   "metadata": {},
   "outputs": [
    {
     "name": "stdout",
     "output_type": "stream",
     "text": [
      "Downloaded AWS prices, with 279 items.\n"
     ]
    }
   ],
   "source": [
    "print('Downloaded AWS prices, with {} items.'.format(aws_dataframe.shape[0]))"
   ]
  },
  {
   "cell_type": "code",
   "execution_count": 40,
   "metadata": {},
   "outputs": [],
   "source": [
    "azure_url = 'https://azure.microsoft.com/en-us/pricing/details/virtual-machines/linux/'"
   ]
  },
  {
   "cell_type": "code",
   "execution_count": 41,
   "metadata": {},
   "outputs": [],
   "source": [
    "azure_data_location = 'dataset/azure_price_data.csv'"
   ]
  },
  {
   "cell_type": "code",
   "execution_count": 42,
   "metadata": {},
   "outputs": [],
   "source": [
    "azure_acceptable_categories = [\n",
    "    'general-purpose-filter'\n",
    "]"
   ]
  },
  {
   "cell_type": "code",
   "execution_count": 43,
   "metadata": {},
   "outputs": [],
   "source": [
    "azure_acceptable_regions = [\n",
    "    'australia-central',\n",
    "    'australia-central-2',\n",
    "    'australia-east',\n",
    "    'australia-southeast'\n",
    "]"
   ]
  },
  {
   "cell_type": "code",
   "execution_count": 44,
   "metadata": {},
   "outputs": [],
   "source": [
    "azure_ssd_temp_disk_vms = [\n",
    "    r'A\\d.v2', \n",
    "    r'D\\d{1,2}.v2', \n",
    "    r'D\\d{1,2}.v3' \n",
    "] "
   ]
  },
  {
   "cell_type": "code",
   "execution_count": 45,
   "metadata": {},
   "outputs": [],
   "source": [
    "azure_gst_exclusive = True"
   ]
  },
  {
   "cell_type": "code",
   "execution_count": 46,
   "metadata": {},
   "outputs": [],
   "source": [
    "azure_price_page_html = requests.get(azure_url).text"
   ]
  },
  {
   "cell_type": "code",
   "execution_count": 47,
   "metadata": {},
   "outputs": [],
   "source": [
    "\n",
    "azure_price_page = BeautifulSoup(azure_price_page_html, 'html.parser')"
   ]
  },
  {
   "cell_type": "code",
   "execution_count": 48,
   "metadata": {},
   "outputs": [],
   "source": [
    "appropriate_price_tables = []"
   ]
  },
  {
   "cell_type": "code",
   "execution_count": 49,
   "metadata": {},
   "outputs": [],
   "source": [
    "for category in azure_acceptable_categories:\n",
    "    category_section = azure_price_page.find_all(attrs={'data-filter': category})[0]\n",
    "    appropriate_price_tables += category_section.find_all('table', class_='sd-table')"
   ]
  },
  {
   "cell_type": "code",
   "execution_count": 50,
   "metadata": {},
   "outputs": [],
   "source": [
    "azure_instance_list = []"
   ]
  },
  {
   "cell_type": "code",
   "execution_count": 51,
   "metadata": {
    "scrolled": false
   },
   "outputs": [],
   "source": [
    "\n",
    "\n",
    "\n",
    "\n",
    "for price_table in appropriate_price_tables:\n",
    "    table_rows = price_table.tbody.find_all('tr')\n",
    "        \n",
    "    \n",
    "    for row in table_rows:\n",
    "        \n",
    "        cells = row.find_all('td')\n",
    "        \n",
    "        \n",
    "        usd_price = None\n",
    "        price_json = json.loads(cells[5].span['data-amount'])['regional']\n",
    "        for region in azure_acceptable_regions:\n",
    "            if region in price_json:\n",
    "                usd_price = price_json[region]\n",
    "                break\n",
    "                \n",
    "        \n",
    "        if usd_price is None:\n",
    "            continue\n",
    "        \n",
    "        \n",
    "        INR_price = usd_price * usd_to_INR_exchange_rate\n",
    "        \n",
    "        \n",
    "        name = cells[1].string\n",
    "        \n",
    "        \n",
    "        cpu_val = float(cells[2].string)\n",
    "        \n",
    "        \n",
    "        ram_string = cells[3].string\n",
    "        ram_string = ram_string.strip(' GiB')\n",
    "        ram_val = float(ram_string)\n",
    "        \n",
    "        \n",
    "        storage_string = cells[4].string\n",
    "        storage_string = storage_string.strip(' GiB')\n",
    "        storage_string = storage_string.replace(',', '')\n",
    "        storage_val = float(storage_string)\n",
    "        \n",
    "        \n",
    "        for regex_string in azure_ssd_temp_disk_vms:\n",
    "            pattern = re.compile(regex_string)\n",
    "            if pattern.match(name):\n",
    "                storage_type = 'SSD'\n",
    "            else:\n",
    "                storage_type = 'HDD'\n",
    "                \n",
    "        \n",
    "        if storage_type is 'HDD':\n",
    "            azure_instance_list.append({\n",
    "                'Name': name,\n",
    "                'vCPU': cpu_val,\n",
    "                'RAM, GB': ram_val,\n",
    "                'Price per hour, INR (ex GST)': usd_price,\n",
    "                'SSD storage, GB': .0,\n",
    "                'HDD storage, GB': storage_val\n",
    "            })\n",
    "        elif storage_type is 'SSD':\n",
    "            azure_instance_list.append({\n",
    "                'Name': name,\n",
    "                'vCPU': cpu_val,\n",
    "                'RAM, GB': ram_val,\n",
    "                'Price per hour, INR (ex GST)': usd_price,\n",
    "                'SSD storage, GB': storage_val,\n",
    "                'HDD storage, GB': .0\n",
    "            })\n",
    "        else:\n",
    "            raise ValueError('Unknown storage type.')\n",
    "\n",
    "\n",
    "pd.DataFrame(azure_instance_list).to_csv(azure_data_location)\n",
    "azure_dataframe = pd.DataFrame(azure_instance_list)"
   ]
  },
  {
   "cell_type": "code",
   "execution_count": 52,
   "metadata": {},
   "outputs": [],
   "source": [
    "catalyst_dataset = pd.read_csv(\"dataSet/catalyst_price_data.csv\", index_col=0)"
   ]
  },
  {
   "cell_type": "code",
   "execution_count": 53,
   "metadata": {},
   "outputs": [],
   "source": [
    "aws_dataset = pd.read_csv(\"dataSet/aws_price_data.csv\", index_col=0)"
   ]
  },
  {
   "cell_type": "code",
   "execution_count": 54,
   "metadata": {},
   "outputs": [],
   "source": [
    "azure_dataset = pd.read_csv(\"dataSet/catalyst_price_data.csv\", index_col=0)"
   ]
  },
  {
   "cell_type": "code",
   "execution_count": 55,
   "metadata": {},
   "outputs": [
    {
     "data": {
      "text/html": [
       "<div>\n",
       "<style scoped>\n",
       "    .dataframe tbody tr th:only-of-type {\n",
       "        vertical-align: middle;\n",
       "    }\n",
       "\n",
       "    .dataframe tbody tr th {\n",
       "        vertical-align: top;\n",
       "    }\n",
       "\n",
       "    .dataframe thead th {\n",
       "        text-align: right;\n",
       "    }\n",
       "</style>\n",
       "<table border=\"1\" class=\"dataframe\">\n",
       "  <thead>\n",
       "    <tr style=\"text-align: right;\">\n",
       "      <th></th>\n",
       "      <th>Name</th>\n",
       "      <th>vCPU</th>\n",
       "      <th>RAM, GB</th>\n",
       "      <th>Price per hour, INR (ex GST)</th>\n",
       "      <th>SSD storage, GB</th>\n",
       "      <th>HDD storage, GB</th>\n",
       "    </tr>\n",
       "  </thead>\n",
       "  <tbody>\n",
       "    <tr>\n",
       "      <td>0</td>\n",
       "      <td>c1.c1r05</td>\n",
       "      <td>1.0</td>\n",
       "      <td>0.5</td>\n",
       "      <td>0.017</td>\n",
       "      <td>0.0</td>\n",
       "      <td>0.0</td>\n",
       "    </tr>\n",
       "    <tr>\n",
       "      <td>1</td>\n",
       "      <td>c1.c1r1</td>\n",
       "      <td>1.0</td>\n",
       "      <td>1.0</td>\n",
       "      <td>0.039</td>\n",
       "      <td>0.0</td>\n",
       "      <td>0.0</td>\n",
       "    </tr>\n",
       "    <tr>\n",
       "      <td>2</td>\n",
       "      <td>c1.c1r2</td>\n",
       "      <td>1.0</td>\n",
       "      <td>2.0</td>\n",
       "      <td>0.062</td>\n",
       "      <td>0.0</td>\n",
       "      <td>0.0</td>\n",
       "    </tr>\n",
       "    <tr>\n",
       "      <td>3</td>\n",
       "      <td>c1.c1r4</td>\n",
       "      <td>1.0</td>\n",
       "      <td>4.0</td>\n",
       "      <td>0.098</td>\n",
       "      <td>0.0</td>\n",
       "      <td>0.0</td>\n",
       "    </tr>\n",
       "    <tr>\n",
       "      <td>4</td>\n",
       "      <td>c1.c2r1</td>\n",
       "      <td>2.0</td>\n",
       "      <td>1.0</td>\n",
       "      <td>0.070</td>\n",
       "      <td>0.0</td>\n",
       "      <td>0.0</td>\n",
       "    </tr>\n",
       "    <tr>\n",
       "      <td>5</td>\n",
       "      <td>c1.c2r2</td>\n",
       "      <td>2.0</td>\n",
       "      <td>2.0</td>\n",
       "      <td>0.088</td>\n",
       "      <td>0.0</td>\n",
       "      <td>0.0</td>\n",
       "    </tr>\n",
       "  </tbody>\n",
       "</table>\n",
       "</div>"
      ],
      "text/plain": [
       "       Name  vCPU  RAM, GB  Price per hour, INR (ex GST)  SSD storage, GB  \\\n",
       "0  c1.c1r05   1.0      0.5                         0.017              0.0   \n",
       "1   c1.c1r1   1.0      1.0                         0.039              0.0   \n",
       "2   c1.c1r2   1.0      2.0                         0.062              0.0   \n",
       "3   c1.c1r4   1.0      4.0                         0.098              0.0   \n",
       "4   c1.c2r1   2.0      1.0                         0.070              0.0   \n",
       "5   c1.c2r2   2.0      2.0                         0.088              0.0   \n",
       "\n",
       "   HDD storage, GB  \n",
       "0              0.0  \n",
       "1              0.0  \n",
       "2              0.0  \n",
       "3              0.0  \n",
       "4              0.0  \n",
       "5              0.0  "
      ]
     },
     "execution_count": 55,
     "metadata": {},
     "output_type": "execute_result"
    }
   ],
   "source": [
    "catalyst_dataset.head(6)"
   ]
  },
  {
   "cell_type": "code",
   "execution_count": 56,
   "metadata": {},
   "outputs": [
    {
     "data": {
      "text/html": [
       "<div>\n",
       "<style scoped>\n",
       "    .dataframe tbody tr th:only-of-type {\n",
       "        vertical-align: middle;\n",
       "    }\n",
       "\n",
       "    .dataframe tbody tr th {\n",
       "        vertical-align: top;\n",
       "    }\n",
       "\n",
       "    .dataframe thead th {\n",
       "        text-align: right;\n",
       "    }\n",
       "</style>\n",
       "<table border=\"1\" class=\"dataframe\">\n",
       "  <thead>\n",
       "    <tr style=\"text-align: right;\">\n",
       "      <th></th>\n",
       "      <th>Name</th>\n",
       "      <th>vCPU</th>\n",
       "      <th>RAM, GB</th>\n",
       "      <th>Price per hour, INR (ex GST)</th>\n",
       "      <th>SSD storage, GB</th>\n",
       "      <th>HDD storage, GB</th>\n",
       "    </tr>\n",
       "  </thead>\n",
       "  <tbody>\n",
       "    <tr>\n",
       "      <td>0</td>\n",
       "      <td>m5a.8xlarge</td>\n",
       "      <td>32.0</td>\n",
       "      <td>128.0</td>\n",
       "      <td>125.360409</td>\n",
       "      <td>0.0</td>\n",
       "      <td>0.0</td>\n",
       "    </tr>\n",
       "    <tr>\n",
       "      <td>1</td>\n",
       "      <td>m6g.8xlarge</td>\n",
       "      <td>32.0</td>\n",
       "      <td>128.0</td>\n",
       "      <td>111.431475</td>\n",
       "      <td>0.0</td>\n",
       "      <td>0.0</td>\n",
       "    </tr>\n",
       "    <tr>\n",
       "      <td>2</td>\n",
       "      <td>t4g.xlarge</td>\n",
       "      <td>4.0</td>\n",
       "      <td>16.0</td>\n",
       "      <td>12.303892</td>\n",
       "      <td>0.0</td>\n",
       "      <td>0.0</td>\n",
       "    </tr>\n",
       "    <tr>\n",
       "      <td>3</td>\n",
       "      <td>m4.10xlarge</td>\n",
       "      <td>40.0</td>\n",
       "      <td>160.0</td>\n",
       "      <td>0.000000</td>\n",
       "      <td>0.0</td>\n",
       "      <td>0.0</td>\n",
       "    </tr>\n",
       "    <tr>\n",
       "      <td>4</td>\n",
       "      <td>m6gd.4xlarge</td>\n",
       "      <td>16.0</td>\n",
       "      <td>64.0</td>\n",
       "      <td>66.162438</td>\n",
       "      <td>950.0</td>\n",
       "      <td>0.0</td>\n",
       "    </tr>\n",
       "  </tbody>\n",
       "</table>\n",
       "</div>"
      ],
      "text/plain": [
       "           Name  vCPU  RAM, GB  Price per hour, INR (ex GST)  SSD storage, GB  \\\n",
       "0   m5a.8xlarge  32.0    128.0                    125.360409              0.0   \n",
       "1   m6g.8xlarge  32.0    128.0                    111.431475              0.0   \n",
       "2    t4g.xlarge   4.0     16.0                     12.303892              0.0   \n",
       "3   m4.10xlarge  40.0    160.0                      0.000000              0.0   \n",
       "4  m6gd.4xlarge  16.0     64.0                     66.162438            950.0   \n",
       "\n",
       "   HDD storage, GB  \n",
       "0              0.0  \n",
       "1              0.0  \n",
       "2              0.0  \n",
       "3              0.0  \n",
       "4              0.0  "
      ]
     },
     "execution_count": 56,
     "metadata": {},
     "output_type": "execute_result"
    }
   ],
   "source": [
    "aws_dataset.head()"
   ]
  },
  {
   "cell_type": "code",
   "execution_count": 57,
   "metadata": {},
   "outputs": [],
   "source": [
    "def filter_dataset (dataset):\n",
    "    without_high_ram = dataset[(dataset['RAM, GB'] <= 360) & (dataset['vCPU'] <= 64)]\n",
    "    \n",
    "    return without_high_ram"
   ]
  },
  {
   "cell_type": "code",
   "execution_count": 58,
   "metadata": {},
   "outputs": [],
   "source": [
    "catalyst_dataset = filter_dataset(catalyst_dataset)"
   ]
  },
  {
   "cell_type": "code",
   "execution_count": 59,
   "metadata": {},
   "outputs": [],
   "source": [
    "aws_dataset = filter_dataset(aws_dataset)"
   ]
  },
  {
   "cell_type": "code",
   "execution_count": 60,
   "metadata": {},
   "outputs": [],
   "source": [
    "azure_dataset = filter_dataset(azure_dataset)"
   ]
  },
  {
   "cell_type": "code",
   "execution_count": 61,
   "metadata": {},
   "outputs": [],
   "source": [
    "def split_dataset (dataset):\n",
    "    x = dataset[[\"vCPU\", \"RAM, GB\", \"HDD storage, GB\", \"SSD storage, GB\"]].values\n",
    "    y = dataset[\"Price per hour, INR (ex GST)\"].values\n",
    "    \n",
    "    return (x, y)"
   ]
  },
  {
   "cell_type": "code",
   "execution_count": 62,
   "metadata": {},
   "outputs": [],
   "source": [
    "catalyst_x, catalyst_y = split_dataset(catalyst_dataset)"
   ]
  },
  {
   "cell_type": "code",
   "execution_count": 63,
   "metadata": {},
   "outputs": [],
   "source": [
    "aws_x, aws_y = split_dataset(aws_dataset)"
   ]
  },
  {
   "cell_type": "code",
   "execution_count": 64,
   "metadata": {},
   "outputs": [],
   "source": [
    "azure_x, azure_y = split_dataset(azure_dataset)"
   ]
  },
  {
   "cell_type": "code",
   "execution_count": 65,
   "metadata": {},
   "outputs": [],
   "source": [
    "catalyst_linear = LinearRegression()"
   ]
  },
  {
   "cell_type": "code",
   "execution_count": 66,
   "metadata": {},
   "outputs": [],
   "source": [
    "aws_linear = LinearRegression()"
   ]
  },
  {
   "cell_type": "code",
   "execution_count": 67,
   "metadata": {},
   "outputs": [],
   "source": [
    "azure_linear = LinearRegression()"
   ]
  },
  {
   "cell_type": "code",
   "execution_count": 68,
   "metadata": {},
   "outputs": [
    {
     "data": {
      "text/plain": [
       "LinearRegression(copy_X=True, fit_intercept=True, n_jobs=None, normalize=False)"
      ]
     },
     "execution_count": 68,
     "metadata": {},
     "output_type": "execute_result"
    }
   ],
   "source": [
    "catalyst_linear.fit(catalyst_x, catalyst_y)"
   ]
  },
  {
   "cell_type": "code",
   "execution_count": 69,
   "metadata": {},
   "outputs": [
    {
     "data": {
      "text/plain": [
       "LinearRegression(copy_X=True, fit_intercept=True, n_jobs=None, normalize=False)"
      ]
     },
     "execution_count": 69,
     "metadata": {},
     "output_type": "execute_result"
    }
   ],
   "source": [
    "aws_linear.fit(aws_x, aws_y)"
   ]
  },
  {
   "cell_type": "code",
   "execution_count": 70,
   "metadata": {},
   "outputs": [
    {
     "data": {
      "text/plain": [
       "LinearRegression(copy_X=True, fit_intercept=True, n_jobs=None, normalize=False)"
      ]
     },
     "execution_count": 70,
     "metadata": {},
     "output_type": "execute_result"
    }
   ],
   "source": [
    "azure_linear.fit(azure_x, azure_y)"
   ]
  },
  {
   "cell_type": "code",
   "execution_count": 71,
   "metadata": {},
   "outputs": [],
   "source": [
    "aws_cata_price = aws_linear.predict(catalyst_x)"
   ]
  },
  {
   "cell_type": "code",
   "execution_count": 72,
   "metadata": {},
   "outputs": [],
   "source": [
    "azure_cata_price = azure_linear.predict(catalyst_x)"
   ]
  },
  {
   "cell_type": "code",
   "execution_count": 73,
   "metadata": {},
   "outputs": [],
   "source": [
    "azure_aws_price = azure_linear.predict(aws_x)"
   ]
  },
  {
   "cell_type": "code",
   "execution_count": 74,
   "metadata": {},
   "outputs": [],
   "source": [
    "catalyst_aws_price = catalyst_linear.predict(aws_x)"
   ]
  },
  {
   "cell_type": "code",
   "execution_count": 75,
   "metadata": {},
   "outputs": [],
   "source": [
    "aws_azure_price = aws_linear.predict(azure_x)"
   ]
  },
  {
   "cell_type": "code",
   "execution_count": 76,
   "metadata": {},
   "outputs": [],
   "source": [
    "catalyst_azure_price = catalyst_linear.predict(azure_x)"
   ]
  },
  {
   "cell_type": "code",
   "execution_count": 77,
   "metadata": {},
   "outputs": [],
   "source": [
    "def graph_pred (names, predictions):\n",
    "    flavors_num = predictions[0].shape[0]\n",
    "    for index, name in enumerate(names):\n",
    "        plt.plot(range(flavors_num), predictions[index], label=names[index])\n",
    "    plt.legend(loc=2)"
   ]
  },
  {
   "cell_type": "code",
   "execution_count": 78,
   "metadata": {
    "scrolled": true
   },
   "outputs": [
    {
     "data": {
      "image/png": "[encoded data removed]",
      "text/plain": [
       "<Figure size 432x288 with 1 Axes>"
      ]
     },
     "metadata": {
      "needs_background": "light"
     },
     "output_type": "display_data"
    }
   ],
   "source": [
    "graph_pred([\n",
    "        \"Catalyst\", \"AWS\", \"Azure\"\n",
    "    ], [\n",
    "        catalyst_y, aws_cata_price, azure_cata_price\n",
    "    ])"
   ]
  },
  {
   "cell_type": "code",
   "execution_count": 79,
   "metadata": {},
   "outputs": [
    {
     "data": {
      "image/png": "[encoded data removed]",
      "text/plain": [
       "<Figure size 432x288 with 1 Axes>"
      ]
     },
     "metadata": {
      "needs_background": "light"
     },
     "output_type": "display_data"
    }
   ],
   "source": [
    "graph_pred([\n",
    "        \"Catalyst\", \"AWS\", \"Azure\"\n",
    "    ], [\n",
    "        catalyst_aws_price,\n",
    "        aws_y,\n",
    "        azure_aws_price,\n",
    "    ])"
   ]
  },
  {
   "cell_type": "code",
   "execution_count": 80,
   "metadata": {},
   "outputs": [
    {
     "data": {
      "image/png": "[encoded data removed]",
      "text/plain": [
       "<Figure size 432x288 with 1 Axes>"
      ]
     },
     "metadata": {
      "needs_background": "light"
     },
     "output_type": "display_data"
    }
   ],
   "source": [
    "graph_pred([\n",
    "        \"Catalyst\", \"AWS\", \"Azure\"\n",
    "    ], [\n",
    "        catalyst_azure_price,\n",
    "        aws_azure_price,\n",
    "        azure_y\n",
    "    ])"
   ]
  },
  {
   "cell_type": "code",
   "execution_count": 81,
   "metadata": {},
   "outputs": [],
   "source": [
    "def pred_save (origin_flavors, provider_names, predictions):\n",
    "    \n",
    "    flavor_data = origin_flavors[[\"Name\", \"vCPU\", \"RAM, GB\", \"HDD storage, GB\", \"SSD storage, GB\"]]\n",
    "    \n",
    "    print(type(origin_flavors))\n",
    "    \n",
    "    for index, provider in enumerate(predictions):\n",
    "        unit_string = ' price per hour, INR (ex GST)'\n",
    "        company_name = provider_names[index]\n",
    "        flavor_data[company_name + unit_string] = predictions[index]\n",
    "    \n",
    "    return flavor_data"
   ]
  },
  {
   "cell_type": "code",
   "execution_count": 82,
   "metadata": {
    "scrolled": true
   },
   "outputs": [
    {
     "name": "stdout",
     "output_type": "stream",
     "text": [
      "<class 'pandas.core.frame.DataFrame'>\n"
     ]
    }
   ],
   "source": [
    "final_cat_data = pred_save(\n",
    "    catalyst_dataset,\n",
    "    [\n",
    "        \"Catalyst\", \"AWS\", \"Azure\"\n",
    "    ], [\n",
    "        catalyst_y, aws_cata_price, azure_cata_price\n",
    "    ])"
   ]
  },
  {
   "cell_type": "code",
   "execution_count": 83,
   "metadata": {},
   "outputs": [
    {
     "name": "stdout",
     "output_type": "stream",
     "text": [
      "<class 'pandas.core.frame.DataFrame'>\n"
     ]
    }
   ],
   "source": [
    "final_aws_data = pred_save(\n",
    "    aws_dataset,\n",
    "    [\n",
    "        \"Catalyst\", \"AWS\", \"Azure\"\n",
    "    ], [\n",
    "        catalyst_aws_price,\n",
    "        aws_y,\n",
    "        azure_aws_price,\n",
    "    ])"
   ]
  },
  {
   "cell_type": "code",
   "execution_count": 84,
   "metadata": {},
   "outputs": [
    {
     "name": "stdout",
     "output_type": "stream",
     "text": [
      "<class 'pandas.core.frame.DataFrame'>\n"
     ]
    }
   ],
   "source": [
    "final_azure_data = pred_save(\n",
    "    azure_dataset,\n",
    "    [\n",
    "        \"Catalyst\", \"AWS\", \"Azure\"\n",
    "    ], [\n",
    "        catalyst_azure_price,\n",
    "        aws_azure_price,\n",
    "        azure_y\n",
    "    ])"
   ]
  },
  {
   "cell_type": "code",
   "execution_count": 85,
   "metadata": {},
   "outputs": [],
   "source": [
    "final_cat_data.to_csv('predicted-dataset/predicted_catalyst_prices.csv')"
   ]
  },
  {
   "cell_type": "code",
   "execution_count": 86,
   "metadata": {},
   "outputs": [],
   "source": [
    "final_aws_data.to_csv('predicted-dataset/predicted_aws_prices.csv')"
   ]
  },
  {
   "cell_type": "code",
   "execution_count": 87,
   "metadata": {},
   "outputs": [],
   "source": [
    "final_azure_data.to_csv('predicted-dataset/predicted_azure_prices.csv')"
   ]
  },
  {
   "cell_type": "code",
   "execution_count": 88,
   "metadata": {},
   "outputs": [
    {
     "name": "stdout",
     "output_type": "stream",
     "text": [
      "Saving resulting datasets.\n"
     ]
    }
   ],
   "source": [
    "print('Saving resulting datasets.')"
   ]
  },
  {
   "cell_type": "code",
   "execution_count": null,
   "metadata": {},
   "outputs": [],
   "source": []
  }
 ],
 "metadata": {
  "anaconda-cloud": {},
  "kernelspec": {
   "display_name": "Python 3",
   "language": "python",
   "name": "python3"
  },
  "language_info": {
   "codemirror_mode": {
    "name": "ipython",
    "version": 3
   },
   "file_extension": ".py",
   "mimetype": "text/x-python",
   "name": "python",
   "nbconvert_exporter": "python",
   "pygments_lexer": "ipython3",
   "version": "3.7.4"
  }
 },
 "nbformat": 4,
 "nbformat_minor": 2
}
